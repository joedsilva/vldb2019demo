{
 "cells": [
  {
   "cell_type": "markdown",
   "metadata": {},
   "source": [
    "<CENTER><H2> Analyze Data Using AIDA - Comparing Data Transfer times to Client-based Systems.  </H2></CENTER>"
   ]
  },
  {
   "cell_type": "markdown",
   "metadata": {},
   "source": [
    "In this Python worflow we take a look at how an AIDA based workflow enables the users to investigate and analyze the data in the database without having to extract the entire data outside of the database.\n",
    "\n",
    "For this purpose, we will explore the Montreal Bixi biking data set for the year 2017 https://www.kaggle.com/aubertsigouin/biximtl/data"
   ]
  },
  {
   "cell_type": "markdown",
   "metadata": {},
   "source": [
    "<HR>\n",
    "Once we import AIDA components, we are good to go !"
   ]
  },
  {
   "cell_type": "code",
   "execution_count": 1,
   "metadata": {},
   "outputs": [],
   "source": [
    "from aida.aida import *;"
   ]
  },
  {
   "cell_type": "markdown",
   "metadata": {},
   "source": [
    "AIDA server connection information."
   ]
  },
  {
   "cell_type": "code",
   "execution_count": 2,
   "metadata": {},
   "outputs": [],
   "source": [
    "host='bmj-cluster.cs.mcgill.ca'; dbname='demo'; user='demo'; passwd='demo'; jobName='bixiDataTransfer'; port=28560;"
   ]
  },
  {
   "cell_type": "markdown",
   "metadata": {},
   "source": [
    "Let us start by establishing a connection to the database and get a connection object. This is syntactically very similar to any JDBC/ODBC based applications."
   ]
  },
  {
   "cell_type": "code",
   "execution_count": 3,
   "metadata": {},
   "outputs": [],
   "source": [
    "dw = AIDA.connect(host, dbname, user, passwd, jobName, port);"
   ]
  },
  {
   "cell_type": "markdown",
   "metadata": {},
   "source": [
    "Let us get a reference to the TabularData object that represents the trip data."
   ]
  },
  {
   "cell_type": "code",
   "execution_count": 4,
   "metadata": {},
   "outputs": [
    {
     "name": "stdout",
     "output_type": "stream",
     "text": [
      "CPU times: user 2.76 ms, sys: 2.02 ms, total: 4.78 ms\n",
      "Wall time: 21.5 ms\n"
     ]
    }
   ],
   "source": [
    "%%time\n",
    "tripdata2017 = dw.tripdata2017;"
   ]
  },
  {
   "cell_type": "markdown",
   "metadata": {},
   "source": [
    "The actual data still resides in database tables, but we can definitely take a peek into the data and AIDA will sent only that minimal data to the client."
   ]
  },
  {
   "cell_type": "code",
   "execution_count": 5,
   "metadata": {},
   "outputs": [
    {
     "name": "stdout",
     "output_type": "stream",
     "text": [
      "   id              starttm  stscode                endtm  endscode  duration  \\\n",
      "0   0  2017-04-15 00:00:00     7060  2017-04-15 00:31:00      7060      1841   \n",
      "1   1  2017-04-15 00:01:00     6173  2017-04-15 00:10:00      6173       553   \n",
      "2   2  2017-04-15 00:01:00     6203  2017-04-15 00:04:00      6204       195   \n",
      "3   3  2017-04-15 00:01:00     6104  2017-04-15 00:06:00      6114       285   \n",
      "4   4  2017-04-15 00:01:00     6174  2017-04-15 00:11:00      6174       569   \n",
      "\n",
      "   ismember  \n",
      "0         1  \n",
      "1         1  \n",
      "2         1  \n",
      "3         1  \n",
      "4         1  \n",
      "CPU times: user 17.2 ms, sys: 3.59 ms, total: 20.8 ms\n",
      "Wall time: 28.3 ms\n"
     ]
    }
   ],
   "source": [
    "%%time\n",
    "head(tripdata2017);"
   ]
  },
  {
   "cell_type": "markdown",
   "metadata": {},
   "source": [
    "We can also see the distribution of values and statistical characteristics of this data set."
   ]
  },
  {
   "cell_type": "code",
   "execution_count": 6,
   "metadata": {},
   "outputs": [
    {
     "name": "stdout",
     "output_type": "stream",
     "text": [
      "                            id                 starttm  \\\n",
      "count   [          4018721.00]  [          4018721.00]   \n",
      "unique  [          4018721.00]  [           227660.00]   \n",
      "nulls   [                0.00]  [                0.00]   \n",
      "max     [          4018721.00]  [ 2017-09-30 23:59:00]   \n",
      "min     [                0.00]  [ 2017-04-15 00:00:00]   \n",
      "avg     [          2009360.21]  [                    ]   \n",
      "median  [          2009360.00]  [                    ]   \n",
      "25%     [          1004680.00]  [                    ]   \n",
      "50%     [          2009360.00]  [                    ]   \n",
      "75%     [          3014040.00]  [                    ]   \n",
      "stddev  [          1160105.11]  [                    ]   \n",
      "\n",
      "                       stscode                   endtm  \\\n",
      "count   [          4018721.00]  [          4018721.00]   \n",
      "unique  [              546.00]  [           227784.00]   \n",
      "nulls   [                0.00]  [                0.00]   \n",
      "max     [            10002.00]  [ 2017-10-01 00:55:00]   \n",
      "min     [             5002.00]  [ 2017-04-15 00:04:00]   \n",
      "avg     [             6324.82]  [                    ]   \n",
      "median  [             6203.00]  [                    ]   \n",
      "25%     [             6105.00]  [                    ]   \n",
      "50%     [             6203.00]  [                    ]   \n",
      "75%     [             6389.00]  [                    ]   \n",
      "stddev  [              375.86]  [                    ]   \n",
      "\n",
      "                      endscode                duration                ismember  \n",
      "count   [          4018721.00]  [          4018721.00]  [          4018721.00]  \n",
      "unique  [              546.00]  [             7115.00]  [                2.00]  \n",
      "nulls   [                0.00]  [                0.00]  [                0.00]  \n",
      "max     [            10002.00]  [             7199.00]  [                1.00]  \n",
      "min     [             5002.00]  [               61.00]  [                0.00]  \n",
      "avg     [             6319.87]  [              837.45]  [                0.80]  \n",
      "median  [             6195.00]  [              670.00]  [                1.00]  \n",
      "25%     [             6092.00]  [              382.00]  [                1.00]  \n",
      "50%     [             6195.00]  [              670.00]  [                1.00]  \n",
      "75%     [             6394.00]  [             1121.00]  [                1.00]  \n",
      "stddev  [              383.28]  [              657.71]  [                0.40]  \n",
      "CPU times: user 20.7 ms, sys: 2.6 ms, total: 23.3 ms\n",
      "Wall time: 22.7 s\n"
     ]
    }
   ],
   "source": [
    "%%time\n",
    "describe(tripdata2017);"
   ]
  },
  {
   "cell_type": "markdown",
   "metadata": {},
   "source": [
    "Let us take a look at the stations information dataset, which is a bit smaller."
   ]
  },
  {
   "cell_type": "code",
   "execution_count": 7,
   "metadata": {},
   "outputs": [
    {
     "name": "stdout",
     "output_type": "stream",
     "text": [
      "   scode                    sname  slatitude  slongitude  sispublic\n",
      "0   7060  de l'Église / de Verdun  45.463001  -73.571569          1\n",
      "1   6173         Berri / Cherrier  45.519088  -73.569509          1\n",
      "2   6203   Hutchison / Sherbrooke  45.507810  -73.572080          1\n",
      "3   6204        Milton / Durocher  45.508144  -73.574772          1\n",
      "4   6104    Wolfe / René-Lévesque  45.516818  -73.554188          1\n",
      "                         scode                   sname  \\\n",
      "count   [              546.00]  [              546.00]   \n",
      "unique  [              546.00]  [              546.00]   \n",
      "nulls   [                0.00]  [                0.00]   \n",
      "max     [            10002.00]  [    Young/Wellington]   \n",
      "min     [             5002.00]  [ 10e avenue / Masson]   \n",
      "avg     [             6412.74]  [                    ]   \n",
      "median  [             6305.50]  [                    ]   \n",
      "25%     [             6143.50]  [                    ]   \n",
      "50%     [             6305.50]  [                    ]   \n",
      "75%     [             6722.75]  [                    ]   \n",
      "stddev  [              405.02]  [                    ]   \n",
      "\n",
      "                     slatitude              slongitude               sispublic  \n",
      "count   [              546.00]  [              546.00]  [              546.00]  \n",
      "unique  [              545.00]  [              546.00]  [                2.00]  \n",
      "nulls   [                0.00]  [                0.00]  [                0.00]  \n",
      "max     [               45.58]  [              -73.50]  [                1.00]  \n",
      "min     [               45.43]  [              -73.67]  [                0.00]  \n",
      "avg     [               45.52]  [              -73.58]  [                0.98]  \n",
      "median  [               45.52]  [              -73.58]  [                1.00]  \n",
      "25%     [               45.50]  [              -73.60]  [                1.00]  \n",
      "50%     [               45.52]  [              -73.58]  [                1.00]  \n",
      "75%     [               45.54]  [              -73.56]  [                1.00]  \n",
      "stddev  [                0.03]  [                0.03]  [                0.13]  \n",
      "CPU times: user 23.9 ms, sys: 3.45 ms, total: 27.4 ms\n",
      "Wall time: 76.8 ms\n"
     ]
    }
   ],
   "source": [
    "%%time\n",
    "stations2017 = dw.stations2017;\n",
    "head(stations2017);\n",
    "describe(stations2017);"
   ]
  },
  {
   "cell_type": "code",
   "execution_count": 8,
   "metadata": {},
   "outputs": [],
   "source": [
    "dw._close();\n",
    "dw=None;"
   ]
  },
  {
   "cell_type": "code",
   "execution_count": null,
   "metadata": {},
   "outputs": [],
   "source": []
  }
 ],
 "metadata": {
  "kernelspec": {
   "display_name": "Python 3",
   "language": "python",
   "name": "python3"
  },
  "language_info": {
   "codemirror_mode": {
    "name": "ipython",
    "version": 3
   },
   "file_extension": ".py",
   "mimetype": "text/x-python",
   "name": "python",
   "nbconvert_exporter": "python",
   "pygments_lexer": "ipython3",
   "version": "3.5.6"
  }
 },
 "nbformat": 4,
 "nbformat_minor": 1
}
