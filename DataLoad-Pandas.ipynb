{
 "cells": [
  {
   "cell_type": "markdown",
   "metadata": {},
   "source": [
    "<CENTER><H2> Data Transfer Time from Database Tables to Client (Pandas)  </H2></CENTER>"
   ]
  },
  {
   "cell_type": "markdown",
   "metadata": {},
   "source": [
    "In this Python worflow we take a look at the amount of time it takes for a typical client-based workflow to extract data from the database for the user to analyze the data and build models.\n",
    "\n",
    "For this purpose, we will explore the Montreal Bixi biking data set for the year 2017 https://www.kaggle.com/aubertsigouin/biximtl/data\n",
    "\n",
    "We are using the Pandas package with default settings for database connection to transfer data."
   ]
  },
  {
   "cell_type": "markdown",
   "metadata": {},
   "source": [
    "Import required pacakges."
   ]
  },
  {
   "cell_type": "code",
   "execution_count": 1,
   "metadata": {},
   "outputs": [],
   "source": [
    "import pandas.io.sql as psql;\n",
    "import pandas as pd;\n",
    "import pymonetdb.sql;"
   ]
  },
  {
   "cell_type": "markdown",
   "metadata": {},
   "source": [
    "Database connection information. We will use the default connection buffer settings etc for this workflow.\n",
    "<!--\n",
    "host='cerberus'; dbname='demo'; user='demo'; passwd='demo'; port=50000;\n",
    "\n",
    "host='192.168.10.10'; dbname='demo'; user='demo'; passwd='demo'; port=50000;\n",
    "\n",
    "host='bmj.cluster.cs.mcgill.ca'; dbname='demo'; user='demo'; passwd='demo'; port=27500;\n",
    "host='bmj.cluster.cs.mcgill.ca'; dbname='demo'; user='demo'; passwd='demo'; port=28500;\n",
    "-->"
   ]
  },
  {
   "cell_type": "code",
   "execution_count": 2,
   "metadata": {},
   "outputs": [],
   "source": [
    "host='cerberus'; dbname='demo'; user='demo'; passwd='demo'; port=50000;"
   ]
  },
  {
   "cell_type": "markdown",
   "metadata": {},
   "source": [
    "Connect to the database."
   ]
  },
  {
   "cell_type": "code",
   "execution_count": 3,
   "metadata": {},
   "outputs": [],
   "source": [
    "con = pymonetdb.Connection(dbname,hostname=host,port=port,username=user,password=passwd,autocommit=True);"
   ]
  },
  {
   "cell_type": "markdown",
   "metadata": {},
   "source": [
    "Let us take a peek into trip data.\n",
    "For this purpose, we will create a pandas dataframe that we can reuse later."
   ]
  },
  {
   "cell_type": "code",
   "execution_count": 4,
   "metadata": {},
   "outputs": [
    {
     "name": "stdout",
     "output_type": "stream",
     "text": [
      "CPU times: user 3min 24s, sys: 3.76 s, total: 3min 28s\n",
      "Wall time: 3min 54s\n"
     ]
    }
   ],
   "source": [
    "%%time\n",
    "tripdata2017 = pd.DataFrame(psql.read_sql_query('SELECT * FROM tripdata2017;', con));"
   ]
  },
  {
   "cell_type": "code",
   "execution_count": 5,
   "metadata": {},
   "outputs": [
    {
     "name": "stdout",
     "output_type": "stream",
     "text": [
      "   id             starttm  stscode               endtm  endscode  duration  \\\n",
      "0   0 2017-04-15 00:00:00     7060 2017-04-15 00:31:00      7060      1841   \n",
      "1   1 2017-04-15 00:01:00     6173 2017-04-15 00:10:00      6173       553   \n",
      "2   2 2017-04-15 00:01:00     6203 2017-04-15 00:04:00      6204       195   \n",
      "3   3 2017-04-15 00:01:00     6104 2017-04-15 00:06:00      6114       285   \n",
      "4   4 2017-04-15 00:01:00     6174 2017-04-15 00:11:00      6174       569   \n",
      "\n",
      "   ismember  \n",
      "0         1  \n",
      "1         1  \n",
      "2         1  \n",
      "3         1  \n",
      "4         1  \n",
      "CPU times: user 16 ms, sys: 0 ns, total: 16 ms\n",
      "Wall time: 21 ms\n"
     ]
    }
   ],
   "source": [
    "%%time\n",
    "print(tripdata2017.head());"
   ]
  },
  {
   "cell_type": "markdown",
   "metadata": {},
   "source": [
    "We can also see the distribution of values and statistical characteristics of this data set."
   ]
  },
  {
   "cell_type": "code",
   "execution_count": 6,
   "metadata": {},
   "outputs": [
    {
     "name": "stdout",
     "output_type": "stream",
     "text": [
      "                 id       stscode      endscode      duration      ismember\n",
      "count  4.018721e+06  4.018721e+06  4.018721e+06  4.018721e+06  4.018721e+06\n",
      "mean   2.009360e+06  6.324815e+03  6.319868e+03  8.374505e+02  7.992535e-01\n",
      "std    1.160105e+06  3.758616e+02  3.832840e+02  6.577148e+02  4.005588e-01\n",
      "min    0.000000e+00  5.002000e+03  5.002000e+03  6.100000e+01  0.000000e+00\n",
      "25%    1.004680e+06  6.105000e+03  6.092000e+03  3.820000e+02  1.000000e+00\n",
      "50%    2.009360e+06  6.203000e+03  6.195000e+03  6.700000e+02  1.000000e+00\n",
      "75%    3.014040e+06  6.389000e+03  6.394000e+03  1.121000e+03  1.000000e+00\n",
      "max    4.018721e+06  1.000200e+04  1.000200e+04  7.199000e+03  1.000000e+00\n",
      "CPU times: user 980 ms, sys: 60 ms, total: 1.04 s\n",
      "Wall time: 1.05 s\n"
     ]
    }
   ],
   "source": [
    "%%time\n",
    "print(tripdata2017.describe());"
   ]
  },
  {
   "cell_type": "markdown",
   "metadata": {},
   "source": [
    "Let us take a look at the stations information dataset, which is a bit smaller."
   ]
  },
  {
   "cell_type": "code",
   "execution_count": 7,
   "metadata": {},
   "outputs": [
    {
     "name": "stdout",
     "output_type": "stream",
     "text": [
      "   scode                      sname  slatitude  slongitude  sispublic\n",
      "0   7060  \"de l'Église / de Verdun\"  45.463001  -73.571569          1\n",
      "1   6173         \"Berri / Cherrier\"  45.519088  -73.569509          1\n",
      "2   6203   \"Hutchison / Sherbrooke\"  45.507810  -73.572080          1\n",
      "3   6204        \"Milton / Durocher\"  45.508144  -73.574772          1\n",
      "4   6104    \"Wolfe / René-Lévesque\"  45.516818  -73.554188          1\n",
      "              scode   slatitude  slongitude   sispublic\n",
      "count    546.000000  546.000000  546.000000  546.000000\n",
      "mean    6412.743590   45.519109  -73.582622    0.983516\n",
      "std      405.396125    0.027919    0.027344    0.127442\n",
      "min     5002.000000   45.430740  -73.670634    0.000000\n",
      "25%     6143.500000   45.501726  -73.599579    1.000000\n",
      "50%     6305.500000   45.523103  -73.577413    1.000000\n",
      "75%     6722.750000   45.538784  -73.564608    1.000000\n",
      "max    10002.000000   45.582757  -73.495067    1.000000\n",
      "CPU times: user 36 ms, sys: 8 ms, total: 44 ms\n",
      "Wall time: 60.7 ms\n"
     ]
    }
   ],
   "source": [
    "%%time\n",
    "stations2017 = pd.DataFrame(psql.read_sql_query('SELECT * FROM stations2017;', con));\n",
    "print(stations2017.head());\n",
    "print(stations2017.describe());"
   ]
  },
  {
   "cell_type": "code",
   "execution_count": 8,
   "metadata": {},
   "outputs": [],
   "source": [
    "con.close();\n",
    "con=None;"
   ]
  },
  {
   "cell_type": "code",
   "execution_count": null,
   "metadata": {},
   "outputs": [],
   "source": []
  }
 ],
 "metadata": {
  "kernelspec": {
   "display_name": "Python 3",
   "language": "python",
   "name": "python3"
  },
  "language_info": {
   "codemirror_mode": {
    "name": "ipython",
    "version": 3
   },
   "file_extension": ".py",
   "mimetype": "text/x-python",
   "name": "python",
   "nbconvert_exporter": "python",
   "pygments_lexer": "ipython3",
   "version": "3.5.6"
  }
 },
 "nbformat": 4,
 "nbformat_minor": 1
}
