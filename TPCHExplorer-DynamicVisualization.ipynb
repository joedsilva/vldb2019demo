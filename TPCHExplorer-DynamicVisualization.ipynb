{
 "cells": [
  {
   "cell_type": "markdown",
   "metadata": {},
   "source": [
    "<H2><CENTER> Interactive Data Visualization Capabilities of AIDA using TPC-H Data set</CENTER></H2>"
   ]
  },
  {
   "cell_type": "markdown",
   "metadata": {},
   "source": [
    "In this workflow, we will demonstrate how AIDA is capable of providing sophistiated data visualization support even though it is a database resident framework. Here we will use the data set of TPC-H query 16 to plot the output over a world map, and an interactive widget to allow the user to select certain parameters of the query."
   ]
  },
  {
   "cell_type": "markdown",
   "metadata": {},
   "source": [
    "<HR>\n",
    "Once we import AIDA components, we are good to go !"
   ]
  },
  {
   "cell_type": "code",
   "execution_count": 1,
   "metadata": {},
   "outputs": [],
   "source": [
    "from aida.aida import *;"
   ]
  },
  {
   "cell_type": "markdown",
   "metadata": {},
   "source": [
    "Let us start by establishing a connection to the database and get a connection object. This is syntactically very similar to any JDBC/ODBC based applications."
   ]
  },
  {
   "cell_type": "code",
   "execution_count": 2,
   "metadata": {},
   "outputs": [],
   "source": [
    "host='bmj-cluster.cs.mcgill.ca'; dbname='demo'; user='demo'; passwd='demo'; jobName='TPCHExplorerQ16'; port=28560;\n",
    "dw = AIDA.connect(host, dbname, user, passwd, jobName, port);"
   ]
  },
  {
   "cell_type": "markdown",
   "metadata": {},
   "source": [
    "We will express TPC-H Query 16 using AIDA's ORM syntax."
   ]
  },
  {
   "cell_type": "code",
   "execution_count": 3,
   "metadata": {},
   "outputs": [],
   "source": [
    "c = dw.customer; l = dw.lineitem; s = dw.supplier; n = dw.nation; \n",
    "r = dw.region.filter(Q('r_name', C('ASIA')));\n",
    "o = dw.orders.filter(Q('o_orderdate', DATE('1994-01-01'), CMP.GTE), Q('o_orderdate', DATE('1995-01-01'), CMP.LT));\n",
    "\n",
    "t = c.join(o, ('c_custkey',),('o_custkey',), COL.ALL, COL.ALL);\n",
    "t = t.join(l, ('o_orderkey',), ('l_orderkey',), COL.ALL, COL.ALL);\n",
    "t = t.join(s, ('l_suppkey', 'c_nationkey'), ('s_suppkey', 's_nationkey'), COL.ALL, COL.ALL);\n",
    "t = t.join(n, ('s_nationkey',), ('n_nationkey',), COL.ALL, COL.ALL);\n",
    "t = t.join(r, ('n_regionkey',), ('r_regionkey',), COL.ALL, COL.ALL);\n",
    "t = t.project(('n_name', {F('l_extendedprice')*(1-F('l_discount')):'rev'}))\n",
    "t = t.aggregate(('n_name', {SUM('rev'):'revenue'}), ('n_name',));\n",
    "t = t.order('revenue#desc');"
   ]
  },
  {
   "cell_type": "code",
   "execution_count": 4,
   "metadata": {},
   "outputs": [
    {
     "name": "stdout",
     "output_type": "stream",
     "text": [
      "      n_name       revenue\n",
      "0  INDONESIA  5.550204e+07\n",
      "1    VIETNAM  5.529509e+07\n",
      "2      CHINA  5.372449e+07\n",
      "3      INDIA  5.203551e+07\n",
      "4      JAPAN  4.541018e+07\n"
     ]
    }
   ],
   "source": [
    "head(t);"
   ]
  },
  {
   "cell_type": "markdown",
   "metadata": {},
   "source": [
    "An interesting way to look at this data would be to overlay it over a World map using Plotly's dash modules, which AIDA supports internally.\n",
    "\n",
    "To make it interactive, we can have a slider to select the range of order dates and the possible values of regions provided as radio buttons. A handler function can listen to changes made to either of them and automatically update the data displayed on the map."
   ]
  },
  {
   "cell_type": "code",
   "execution_count": 5,
   "metadata": {},
   "outputs": [],
   "source": [
    "def chooseData(dw,app):\n",
    "    from aida.aida import Q, CMP, C, F, SUM, COL, DATE;\n",
    "    import dash_core_components as dcc;\n",
    "    import dash_html_components as html;\n",
    "    from dash.dependencies import Input, Output, State;\n",
    "    from datetime import datetime;\n",
    "    from dateutil.relativedelta import relativedelta;\n",
    "    import logging;\n",
    "    \n",
    "    cmap = {'ALGERIA':'ALA' ,'ARGENTINA':'ARG' ,'BRAZIL':'BRA' ,'CANADA':'CAN' ,'CHINA':'CHN' ,'EGYPT':'EGY' ,'ETHIOPIA':'ETH' ,'FRANCE':'FRA' ,'GERMANY':'DEU' ,'INDIA':'IND' ,'INDONESIA':'IDN' ,'IRAN':'IRN' ,'IRAQ':'IRQ' ,'JAPAN':'JPN' ,'JORDAN':'JOR' ,'KENYA':'KEN' ,'MOROCCO':'MAR' ,'MOZAMBIQUE':'MOZ' ,'PERU':'PER' ,'ROMANIA':'ROU' ,'RUSSIA':'RUS' ,'SAUDI ARABIA':'SAU' ,'UNITED KINGDOM':'GBR' ,'UNITED STATES':'USA' ,'VIETNAM':'VNM'};\n",
    "    \n",
    "    def unix_time(dt):\n",
    "        return (dt - datetime.utcfromtimestamp(0)).total_seconds();\n",
    "    \n",
    "    def getMarks(start, end):\n",
    "        result = []; current = start;\n",
    "        while current <= end:\n",
    "            result.append(current);\n",
    "            current += relativedelta(months=6);\n",
    "        return {int(unix_time(m)):(str(m.strftime('%Y-%m'))) for m in result};\n",
    "    \n",
    "    # Find the date ranges available from the database.\n",
    "    minDate = datetime.strptime(dw.orders.min(('o_orderdate',)), '%Y-%m-%d');\n",
    "    maxDate = datetime.strptime(dw.orders.max(('o_orderdate',)), '%Y-%m-%d');\n",
    "    \n",
    "    # Find the regions from the database.\n",
    "    regions = dw.region.project(('r_name',)).cdata['r_name'];\n",
    "            \n",
    "    layout = html.Div([ # ==> This is the layout of our interactive widget.\n",
    "       html.Div(id=dw.genDivId('worldMap')) # ==> We plot the graph here.\n",
    "       ,dcc.RadioItems(id=dw.genDivId('region') # ==> A set of radio buttons for region\n",
    "                       ,options=[{'label':r, 'value':r} for r in regions]\n",
    "                      ,value=regions[0], labelStyle={'display': 'inline-block'})\n",
    "        #And a slider here.\n",
    "       ,html.Div([dcc.RangeSlider(id=dw.genDivId('orderDateRange'), min=minDate.timestamp(), max=maxDate.timestamp()\n",
    "                      ,value=[minDate.timestamp(), maxDate.timestamp()], step=86400\n",
    "                      ,marks=getMarks(minDate, maxDate))],style={'width':'95%'})\n",
    "       ]);\n",
    "    logging.info(\"created layout\");\n",
    "\n",
    "    def recompute(start, end, regionName): #Rebuild the data based on the range chosen.\n",
    "        c = dw.customer;l = dw.lineitem; s = dw.supplier; n = dw.nation; \n",
    "        r = dw.region.filter(Q('r_name', C(regionName)));\n",
    "        o = dw.orders.filter(Q('o_orderdate', DATE(start), CMP.GTE), Q('o_orderdate', DATE(end), CMP.LT));\n",
    "\n",
    "        t = c.join(o, ('c_custkey',),('o_custkey',), COL.ALL, COL.ALL);\n",
    "        t = t.join(l, ('o_orderkey',), ('l_orderkey',), COL.ALL, COL.ALL);\n",
    "        t = t.join(s, ('l_suppkey', 'c_nationkey'), ('s_suppkey', 's_nationkey'), COL.ALL, COL.ALL);\n",
    "        t = t.join(n, ('s_nationkey',), ('n_nationkey',), COL.ALL, COL.ALL);\n",
    "        t = t.join(r, ('n_regionkey',), ('r_regionkey',), COL.ALL, COL.ALL);\n",
    "        t = t.project(('n_name', {F('l_extendedprice')*(1-F('l_discount')):'rev'}))\n",
    "        t = t.aggregate(('n_name', {SUM('rev'):'revenue'}), ('n_name',));\n",
    "        t = t.order('revenue#desc');\n",
    "\n",
    "        dw.selData =  t;\n",
    "        recs = t.cdata;\n",
    "        logging.info(\"generating graph\");\n",
    "        return dcc.Graph(figure={ 'data': [ { 'z': recs['revenue']\n",
    "                                             ,'autocolorscale': False, 'colorbar': {'title': 'Revenue'}\n",
    "                                             ,'locations': [cmap[c] for c in recs['n_name']]\n",
    "                                             ,'marker': {'line': { 'color': 'rgb(180,180,180)', 'width': 0.5 }}\n",
    "                                             ,'reversescale': False, 'type': 'choropleth', 'zmin': 0 } ]\n",
    "                                 ,'layout': {\n",
    "                                     \"geo\": { \"projection\": {\"type\": \"Mercator\"}\n",
    "                                             ,\"showcoastlines\": True, \"showframe\": False }\n",
    "                                             ,\"title\": \"TPC-H Q5 - Revenue Volumes\"\n",
    "                                              } });\n",
    "\n",
    "    # This function will be called everytime the slider is adjusted.\n",
    "    @app.callback( Output(dw.getDivId('worldMap'), 'children')\n",
    "                  ,[Input(dw.getDivId('orderDateRange'), 'value') ,Input(dw.getDivId('region'), 'value')])\n",
    "    def updateGraph(ordRange, regionName):\n",
    "        logging.info(\"callback activated\");\n",
    "        return recompute(datetime.fromtimestamp(ordRange[0]).strftime('%Y-%m-%d')\n",
    "                        ,datetime.fromtimestamp(ordRange[1]).strftime('%Y-%m-%d')\n",
    "                        ,regionName);\n",
    "\n",
    "    return layout;\n"
   ]
  },
  {
   "cell_type": "markdown",
   "metadata": {},
   "source": [
    "Ask AIDA to build and deploy this widget"
   ]
  },
  {
   "cell_type": "code",
   "execution_count": 6,
   "metadata": {},
   "outputs": [
    {
     "data": {
      "text/html": [
       "\n",
       "        <iframe\n",
       "            width=\"100%\"\n",
       "            height=\"600\"\n",
       "            src=\"http://132.206.55.112:28570/TPCHExplorerQ16/2fe91535-8040-4903-8019-ce4e40167fb9\"\n",
       "            frameborder=\"0\"\n",
       "            allowfullscreen\n",
       "        ></iframe>\n",
       "        "
      ],
      "text/plain": [
       "<IPython.lib.display.IFrame at 0x7fbbef3b5a58>"
      ]
     },
     "metadata": {},
     "output_type": "display_data"
    }
   ],
   "source": [
    "pltp = dw._Page(chooseData);\n",
    "show(pltp, height=600);"
   ]
  },
  {
   "cell_type": "markdown",
   "metadata": {},
   "source": [
    "User can do selections on the interactive widget which will change the information overlayed on the map."
   ]
  },
  {
   "cell_type": "code",
   "execution_count": 7,
   "metadata": {},
   "outputs": [
    {
     "name": "stdout",
     "output_type": "stream",
     "text": [
      "       n_name       revenue\n",
      "0  MOZAMBIQUE  3.709886e+08\n",
      "1     ALGERIA  3.653029e+08\n",
      "2    ETHIOPIA  3.351155e+08\n",
      "3     MOROCCO  3.213111e+08\n",
      "4       KENYA  3.112156e+08\n"
     ]
    }
   ],
   "source": [
    "head(dw.selData);"
   ]
  },
  {
   "cell_type": "code",
   "execution_count": 8,
   "metadata": {},
   "outputs": [],
   "source": [
    "dw._close();\n",
    "dw=None;"
   ]
  },
  {
   "cell_type": "code",
   "execution_count": null,
   "metadata": {},
   "outputs": [],
   "source": []
  }
 ],
 "metadata": {
  "kernelspec": {
   "display_name": "Python 3",
   "language": "python",
   "name": "python3"
  },
  "language_info": {
   "codemirror_mode": {
    "name": "ipython",
    "version": 3
   },
   "file_extension": ".py",
   "mimetype": "text/x-python",
   "name": "python",
   "nbconvert_exporter": "python",
   "pygments_lexer": "ipython3",
   "version": "3.5.6"
  }
 },
 "nbformat": 4,
 "nbformat_minor": 2
}
